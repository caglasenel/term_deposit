{
 "cells": [
  {
   "cell_type": "markdown",
   "metadata": {},
   "source": [
    "# ÇAĞLA ŞENEL"
   ]
  },
  {
   "cell_type": "markdown",
   "metadata": {},
   "source": [
    "# ARMUT MACHINE LEARNING - CASE STUDY "
   ]
  },
  {
   "cell_type": "markdown",
   "metadata": {},
   "source": [
    "### 1.WORD CLASSIFICATION"
   ]
  },
  {
   "cell_type": "markdown",
   "metadata": {},
   "source": [
    "#### 1.1 Classification of the words, namely Turkish and English\n",
    "- Import libraries\n",
    "- Import csv files \n",
    "- Handle null values, upper cases and spaces between letters\n",
    "- Feature Extraction on words using CountVectorizer\n",
    "- Get results on unbalanced data and evaluate the results\n",
    "- Apply Resamling Methods\n",
    "- Get results on balanced data, evaluate and compare  the results\n",
    "- Select best algorithm\n",
    "- Tune Hyperparameters \n",
    "- Add new feature \n",
    "- Get final results and evaluate "
   ]
  },
  {
   "cell_type": "markdown",
   "metadata": {},
   "source": [
    "#### Import the libraries"
   ]
  },
  {
   "cell_type": "code",
   "execution_count": 328,
   "metadata": {},
   "outputs": [],
   "source": [
    "\n",
    "import pandas as pd\n",
    "import numpy as np\n",
    "import seaborn as sns\n",
    "from sklearn.model_selection import train_test_split\n",
    "from sklearn.model_selection import cross_val_score\n",
    "from sklearn.feature_extraction.text import CountVectorizer\n",
    "from xgboost import XGBClassifier\n",
    "from sklearn.ensemble import RandomForestClassifier\n",
    "from sklearn.naive_bayes import MultinomialNB\n",
    "from sklearn.svm import SVC\n",
    "from sklearn.metrics import precision_score, accuracy_score, recall_score, classification_report, confusion_matrix, f1_score\n",
    "from sklearn.pipeline import Pipeline\n",
    "from sklearn.model_selection import GridSearchCV\n",
    "import sklearn.metrics as metrics\n",
    "import matplotlib.pyplot as plt\n",
    "\n"
   ]
  },
  {
   "cell_type": "markdown",
   "metadata": {},
   "source": [
    "#### Import the data"
   ]
  },
  {
   "cell_type": "code",
   "execution_count": 3,
   "metadata": {},
   "outputs": [],
   "source": [
    "data_eng=pd.read_csv('Armut_ML_Case_-_Eng.csv')\n",
    "data_tr=pd.read_csv('Armut_ML_Case_-_Turkish.csv')"
   ]
  },
  {
   "cell_type": "markdown",
   "metadata": {},
   "source": [
    "#### Assigning labels to the dataset"
   ]
  },
  {
   "cell_type": "code",
   "execution_count": 4,
   "metadata": {},
   "outputs": [],
   "source": [
    "data_eng['is_tr']=0\n",
    "data_tr['is_tr']=1"
   ]
  },
  {
   "cell_type": "code",
   "execution_count": 5,
   "metadata": {},
   "outputs": [
    {
     "data": {
      "text/html": [
       "<div>\n",
       "<style scoped>\n",
       "    .dataframe tbody tr th:only-of-type {\n",
       "        vertical-align: middle;\n",
       "    }\n",
       "\n",
       "    .dataframe tbody tr th {\n",
       "        vertical-align: top;\n",
       "    }\n",
       "\n",
       "    .dataframe thead th {\n",
       "        text-align: right;\n",
       "    }\n",
       "</style>\n",
       "<table border=\"1\" class=\"dataframe\">\n",
       "  <thead>\n",
       "    <tr style=\"text-align: right;\">\n",
       "      <th></th>\n",
       "      <th>Words</th>\n",
       "      <th>is_tr</th>\n",
       "    </tr>\n",
       "  </thead>\n",
       "  <tbody>\n",
       "    <tr>\n",
       "      <th>0</th>\n",
       "      <td>flying</td>\n",
       "      <td>0</td>\n",
       "    </tr>\n",
       "    <tr>\n",
       "      <th>1</th>\n",
       "      <td>fillet</td>\n",
       "      <td>0</td>\n",
       "    </tr>\n",
       "    <tr>\n",
       "      <th>2</th>\n",
       "      <td>fiance</td>\n",
       "      <td>0</td>\n",
       "    </tr>\n",
       "    <tr>\n",
       "      <th>3</th>\n",
       "      <td>failed</td>\n",
       "      <td>0</td>\n",
       "    </tr>\n",
       "    <tr>\n",
       "      <th>4</th>\n",
       "      <td>fanons</td>\n",
       "      <td>0</td>\n",
       "    </tr>\n",
       "  </tbody>\n",
       "</table>\n",
       "</div>"
      ],
      "text/plain": [
       "    Words  is_tr\n",
       "0  flying      0\n",
       "1  fillet      0\n",
       "2  fiance      0\n",
       "3  failed      0\n",
       "4  fanons      0"
      ]
     },
     "execution_count": 5,
     "metadata": {},
     "output_type": "execute_result"
    }
   ],
   "source": [
    "data_eng.head()"
   ]
  },
  {
   "cell_type": "code",
   "execution_count": 6,
   "metadata": {},
   "outputs": [
    {
     "data": {
      "text/html": [
       "<div>\n",
       "<style scoped>\n",
       "    .dataframe tbody tr th:only-of-type {\n",
       "        vertical-align: middle;\n",
       "    }\n",
       "\n",
       "    .dataframe tbody tr th {\n",
       "        vertical-align: top;\n",
       "    }\n",
       "\n",
       "    .dataframe thead th {\n",
       "        text-align: right;\n",
       "    }\n",
       "</style>\n",
       "<table border=\"1\" class=\"dataframe\">\n",
       "  <thead>\n",
       "    <tr style=\"text-align: right;\">\n",
       "      <th></th>\n",
       "      <th>Kelimeler</th>\n",
       "      <th>is_tr</th>\n",
       "    </tr>\n",
       "  </thead>\n",
       "  <tbody>\n",
       "    <tr>\n",
       "      <th>0</th>\n",
       "      <td>frak</td>\n",
       "      <td>1</td>\n",
       "    </tr>\n",
       "    <tr>\n",
       "      <th>1</th>\n",
       "      <td>fasit</td>\n",
       "      <td>1</td>\n",
       "    </tr>\n",
       "    <tr>\n",
       "      <th>2</th>\n",
       "      <td>fecir</td>\n",
       "      <td>1</td>\n",
       "    </tr>\n",
       "    <tr>\n",
       "      <th>3</th>\n",
       "      <td>font</td>\n",
       "      <td>1</td>\n",
       "    </tr>\n",
       "    <tr>\n",
       "      <th>4</th>\n",
       "      <td>flut</td>\n",
       "      <td>1</td>\n",
       "    </tr>\n",
       "  </tbody>\n",
       "</table>\n",
       "</div>"
      ],
      "text/plain": [
       "  Kelimeler  is_tr\n",
       "0      frak      1\n",
       "1     fasit      1\n",
       "2     fecir      1\n",
       "3      font      1\n",
       "4      flut      1"
      ]
     },
     "execution_count": 6,
     "metadata": {},
     "output_type": "execute_result"
    }
   ],
   "source": [
    "data_tr.head()"
   ]
  },
  {
   "cell_type": "markdown",
   "metadata": {},
   "source": [
    "#### Check if there are any null values, then drop "
   ]
  },
  {
   "cell_type": "code",
   "execution_count": 7,
   "metadata": {},
   "outputs": [
    {
     "data": {
      "text/plain": [
       "Words    1\n",
       "is_tr    0\n",
       "dtype: int64"
      ]
     },
     "execution_count": 7,
     "metadata": {},
     "output_type": "execute_result"
    }
   ],
   "source": [
    "data_eng.isnull().sum()"
   ]
  },
  {
   "cell_type": "code",
   "execution_count": 8,
   "metadata": {},
   "outputs": [
    {
     "data": {
      "text/plain": [
       "Kelimeler    0\n",
       "is_tr        0\n",
       "dtype: int64"
      ]
     },
     "execution_count": 8,
     "metadata": {},
     "output_type": "execute_result"
    }
   ],
   "source": [
    "data_tr.isnull().sum()"
   ]
  },
  {
   "cell_type": "code",
   "execution_count": 9,
   "metadata": {},
   "outputs": [],
   "source": [
    "data_eng = data_eng.dropna()"
   ]
  },
  {
   "cell_type": "markdown",
   "metadata": {},
   "source": [
    "#### The column names are changed to be the same for both data sets.Then data sets are merged "
   ]
  },
  {
   "cell_type": "code",
   "execution_count": 10,
   "metadata": {},
   "outputs": [],
   "source": [
    "data_tr.columns=['Words','is_tr']\n",
    "data_all= pd.concat([data_eng,data_tr], axis=0, ignore_index=True)"
   ]
  },
  {
   "cell_type": "markdown",
   "metadata": {},
   "source": [
    "#### Upper cases are replaced with lower case and  spaces between the letters are replaced with ''."
   ]
  },
  {
   "cell_type": "code",
   "execution_count": 11,
   "metadata": {},
   "outputs": [],
   "source": [
    "data_all.Words=data_all.Words.str.lower()\n",
    "data_all.Words=data_all.Words.str.replace(' ', '')"
   ]
  },
  {
   "cell_type": "code",
   "execution_count": 12,
   "metadata": {},
   "outputs": [
    {
     "data": {
      "text/html": [
       "<div>\n",
       "<style scoped>\n",
       "    .dataframe tbody tr th:only-of-type {\n",
       "        vertical-align: middle;\n",
       "    }\n",
       "\n",
       "    .dataframe tbody tr th {\n",
       "        vertical-align: top;\n",
       "    }\n",
       "\n",
       "    .dataframe thead th {\n",
       "        text-align: right;\n",
       "    }\n",
       "</style>\n",
       "<table border=\"1\" class=\"dataframe\">\n",
       "  <thead>\n",
       "    <tr style=\"text-align: right;\">\n",
       "      <th></th>\n",
       "      <th>Words</th>\n",
       "      <th>is_tr</th>\n",
       "    </tr>\n",
       "  </thead>\n",
       "  <tbody>\n",
       "    <tr>\n",
       "      <th>0</th>\n",
       "      <td>flying</td>\n",
       "      <td>0</td>\n",
       "    </tr>\n",
       "    <tr>\n",
       "      <th>1</th>\n",
       "      <td>fillet</td>\n",
       "      <td>0</td>\n",
       "    </tr>\n",
       "    <tr>\n",
       "      <th>2</th>\n",
       "      <td>fiance</td>\n",
       "      <td>0</td>\n",
       "    </tr>\n",
       "    <tr>\n",
       "      <th>3</th>\n",
       "      <td>failed</td>\n",
       "      <td>0</td>\n",
       "    </tr>\n",
       "    <tr>\n",
       "      <th>4</th>\n",
       "      <td>fanons</td>\n",
       "      <td>0</td>\n",
       "    </tr>\n",
       "  </tbody>\n",
       "</table>\n",
       "</div>"
      ],
      "text/plain": [
       "    Words  is_tr\n",
       "0  flying      0\n",
       "1  fillet      0\n",
       "2  fiance      0\n",
       "3  failed      0\n",
       "4  fanons      0"
      ]
     },
     "execution_count": 12,
     "metadata": {},
     "output_type": "execute_result"
    }
   ],
   "source": [
    "data_all.head()"
   ]
  },
  {
   "cell_type": "markdown",
   "metadata": {},
   "source": [
    "#### The graph below shows that dataset is higly unbalanced so i need use a method such as RESAMPLING on trainset to make it balanced. But first, i  want to to see the results of unbalanced data to able to compare with  balanced data.\n"
   ]
  },
  {
   "cell_type": "code",
   "execution_count": 13,
   "metadata": {},
   "outputs": [],
   "source": [
    "target_cnt = data_all.groupby('is_tr').count()"
   ]
  },
  {
   "cell_type": "code",
   "execution_count": 14,
   "metadata": {},
   "outputs": [
    {
     "data": {
      "text/plain": [
       "<matplotlib.axes._subplots.AxesSubplot at 0x7fff193ffc88>"
      ]
     },
     "execution_count": 14,
     "metadata": {},
     "output_type": "execute_result"
    },
    {
     "data": {
      "image/png": "[encoded data removed]",
      "text/plain": [
       "<Figure size 432x288 with 1 Axes>"
      ]
     },
     "metadata": {
      "needs_background": "light"
     },
     "output_type": "display_data"
    }
   ],
   "source": [
    "sns.barplot(x=target_cnt.index,y=target_cnt.Words)"
   ]
  },
  {
   "cell_type": "code",
   "execution_count": 15,
   "metadata": {},
   "outputs": [],
   "source": [
    "\n",
    "def split_data(data_all):\n",
    "    \"\"\"\n",
    "    Function for split all dataset to train and test set.Returns train and test set and their target values.\n",
    "    \"\"\"\n",
    "    data=data_all.drop('is_tr', axis=1)\n",
    "    target=data_all['is_tr']\n",
    "    return train_test_split(data, target, test_size=0.33, random_state=42)\n",
    "        #X_train, X_test, y_train, y_test \n",
    "     \n"
   ]
  },
  {
   "cell_type": "code",
   "execution_count": 16,
   "metadata": {},
   "outputs": [],
   "source": [
    "def to_array(train, test):\n",
    "    \"\"\"\n",
    "    converts the params to array to give as input to the object of CountVectorizer.\n",
    "    \"\"\"\n",
    "    X_train = [word['Words'] for index,word in train.iterrows()]\n",
    "    X_test = [word['Words'] for index,word in test.iterrows()]\n",
    "    return X_train, X_test"
   ]
  },
  {
   "cell_type": "code",
   "execution_count": 329,
   "metadata": {},
   "outputs": [],
   "source": [
    "\n",
    "\n",
    "def get_prediction(X_train,y_train, X_test, est): \n",
    "    \"\"\"\n",
    "    \n",
    "    param__est:  the algorithm you chose to train and get an prediction\n",
    "    CountVectorizer converts text to vectors for Machine Learning\n",
    "    \"get_prediction\" function gives you an estimation on test_set after training processing \n",
    "    \"\"\"\n",
    "    vectorizer = CountVectorizer(analyzer='char')  \n",
    "    train = vectorizer.fit_transform(X_train)\n",
    "    classifier = est\n",
    "    target = y_train\n",
    "    classifier = classifier.fit(train, target)\n",
    "    test = vectorizer.transform(X_test)\n",
    "    pred = classifier.predict(test)\n",
    "    return pred\n"
   ]
  },
  {
   "cell_type": "code",
   "execution_count": 214,
   "metadata": {},
   "outputs": [],
   "source": [
    "def get_model_results(X_train,y_train, X_test, y_test, est):\n",
    "    \"\"\"\n",
    "    the function is nested. It calls \"get_prediction\" func inside to get an prediction , and then returns success metrics comparing actual and prediction.\n",
    "    \"\"\"\n",
    "    pred =get_prediction(X_train,y_train, X_test,est)\n",
    "    labels  = data_all['is_tr'].unique()\n",
    "    acc = accuracy_score(y_test, pred, normalize=True)\n",
    "    print(str(est)+' Model Accuracy:%.2f'%acc)\n",
    "    print ('\\n classification report :\\n')\n",
    "    print(classification_report(y_test, pred))\n",
    "    print('f1_score:'+str(f1_score(y_test, pred)))\n",
    "    print('\\n precision:'+str(precision_score(y_test, pred)))\n",
    "    print('\\n recall:'+str(recall_score(y_test, pred)))\n",
    "    print ('\\n confussion matrix:\\n',confusion_matrix(y_test, pred))\n",
    "    \n",
    "    "
   ]
  },
  {
   "cell_type": "markdown",
   "metadata": {},
   "source": [
    "#### results below is taken on unbalanced data. Accuracy:0.91 is not important cause recall is so low. Model tends to predict that label is 1 as 0 because of its being unbalanced.We can also see that from FN value(705 among 741) and TN value on confusion matrix. So we obtained high Accuracy but it is not acceptible.Resampling method on trainset is needed.   \n",
    "\n"
   ]
  },
  {
   "cell_type": "code",
   "execution_count": 215,
   "metadata": {},
   "outputs": [
    {
     "name": "stdout",
     "output_type": "stream",
     "text": [
      "XGBClassifier(base_score=0.5, booster='gbtree', colsample_bylevel=1,\n",
      "              colsample_bytree=1, gamma=0, learning_rate=0.1, max_delta_step=0,\n",
      "              max_depth=3, min_child_weight=1, missing=None, n_estimators=100,\n",
      "              n_jobs=1, nthread=None, objective='binary:logistic',\n",
      "              random_state=0, reg_alpha=0, reg_lambda=1, scale_pos_weight=1,\n",
      "              seed=None, silent=True, subsample=1) Model Accuracy:0.91\n",
      "\n",
      " classification report :\n",
      "\n",
      "              precision    recall  f1-score   support\n",
      "\n",
      "           0       0.91      1.00      0.95      7146\n",
      "           1       0.78      0.05      0.09       741\n",
      "\n",
      "    accuracy                           0.91      7887\n",
      "   macro avg       0.85      0.52      0.52      7887\n",
      "weighted avg       0.90      0.91      0.87      7887\n",
      "\n",
      "f1_score:0.0914866581956798\n",
      "\n",
      " precision:0.782608695652174\n",
      "\n",
      " recall:0.048582995951417005\n",
      "\n",
      " confussion matrix:\n",
      " [[7136   10]\n",
      " [ 705   36]]\n"
     ]
    }
   ],
   "source": [
    "estimator=XGBClassifier()\n",
    "X_train, X_test, y_train, y_test = split_data(data_all)\n",
    "X_train, X_test = to_array(X_train, X_test)\n",
    "get_model_results(X_train,y_train, X_test, y_test,estimator)\n",
    "\n",
    "\n"
   ]
  },
  {
   "cell_type": "markdown",
   "metadata": {},
   "source": [
    "# k=5 CROSS-VALIDATION"
   ]
  },
  {
   "cell_type": "markdown",
   "metadata": {},
   "source": [
    "By dividing the dataset k times, the results are obtained in different train and test sets.\n",
    "This method is important to understand the stability of the metric results, that is, whether the good or bad result was received by chance.\n",
    "avarage of results of k=5 cross-validation is close to above result."
   ]
  },
  {
   "cell_type": "code",
   "execution_count": 219,
   "metadata": {},
   "outputs": [
    {
     "name": "stdout",
     "output_type": "stream",
     "text": [
      "0.10474999476464349\n"
     ]
    }
   ],
   "source": [
    "X_all=[word['Words'] for index,word in (data_all.drop('is_tr', axis=1)).iterrows()]\n",
    "y_all=data_all['is_tr']\n",
    "pipeline = Pipeline([('cntvector', CountVectorizer(analyzer='char')),('clf', XGBClassifier())])\n",
    "#print(str(cross_val_score(pipeline, X_all, y_all, cv=5, scoring='f1')))\n",
    "print(np.mean(cross_val_score(pipeline, X_all, y_all, cv=5, scoring='f1')))"
   ]
  },
  {
   "cell_type": "markdown",
   "metadata": {},
   "source": [
    "# MAKE TRAINSET BALANCED USING UNDERSAMPLING OR OVERSAMPLING METHOD"
   ]
  },
  {
   "cell_type": "markdown",
   "metadata": {},
   "source": [
    "#### UNDERSAMPLING PROCESSING"
   ]
  },
  {
   "cell_type": "code",
   "execution_count": 276,
   "metadata": {},
   "outputs": [],
   "source": [
    "X_train, X_test, y_train, y_test = split_data(data_all)\n"
   ]
  },
  {
   "cell_type": "code",
   "execution_count": 279,
   "metadata": {},
   "outputs": [],
   "source": [
    "train=pd.concat([X_train,y_train], axis=1)"
   ]
  },
  {
   "cell_type": "code",
   "execution_count": null,
   "metadata": {},
   "outputs": [],
   "source": []
  },
  {
   "cell_type": "code",
   "execution_count": 282,
   "metadata": {},
   "outputs": [
    {
     "name": "stdout",
     "output_type": "stream",
     "text": [
      "cnt0 :14519     cnt1: 1494\n"
     ]
    }
   ],
   "source": [
    "cnt_0, cnt_1 = train.is_tr.value_counts()\n",
    "print('cnt0 :'+str(cnt_0)+ '     cnt1: '+str(cnt_1))\n",
    "df_class_0 = train[train['is_tr'] == 0]\n",
    "df_class_1 = train[train['is_tr'] == 1]"
   ]
  },
  {
   "cell_type": "markdown",
   "metadata": {},
   "source": [
    "#### randomly selecting observations from the majority class 0 as much as minority class 1 on  from the training dataset."
   ]
  },
  {
   "cell_type": "code",
   "execution_count": 283,
   "metadata": {},
   "outputs": [],
   "source": [
    "\n",
    "df_class_0_under= df_class_0.sample(cnt_1)\n",
    "df_under = pd.concat([df_class_0_under, df_class_1], axis=0, ignore_index=True)\n",
    "X_train=df_under.drop('is_tr',axis=1)\n",
    "y_train=df_under['is_tr']\n"
   ]
  },
  {
   "cell_type": "code",
   "execution_count": 182,
   "metadata": {},
   "outputs": [
    {
     "data": {
      "text/plain": [
       "1    1494\n",
       "0    1494\n",
       "Name: is_tr, dtype: int64"
      ]
     },
     "execution_count": 182,
     "metadata": {},
     "output_type": "execute_result"
    }
   ],
   "source": [
    "y_train =y_train.astype(int)\n",
    "y_train.value_counts()\n"
   ]
  },
  {
   "cell_type": "markdown",
   "metadata": {},
   "source": [
    "## RESULTS AFTER UNDERSAMPLING METHOD"
   ]
  },
  {
   "cell_type": "markdown",
   "metadata": {},
   "source": [
    " Oversampling and unsersampling results are  so close each other.I will continoue with trainset applied oversamplig. You can see that in the code blocks below.As a result, after resampling, TN value decreased, FP value increased. at least we lowered the model's tendency to predict 0 because of the unbalacity of the data. We need high precision and recall, but in the model,  precision is lower than recall. I mean, while recall(the correct estimation rate of Turkish words) is 0.646, precision (How many of words we predict Turkish are really Turkish) is 0.189.\n",
    " F-score helps measure precision and recall at the same time. It uses harmonic averages rather than arithmetic averages, punishing excessive values more.It seems that F1 score is increased after resampling but still low."
   ]
  },
  {
   "cell_type": "code",
   "execution_count": 284,
   "metadata": {},
   "outputs": [
    {
     "name": "stdout",
     "output_type": "stream",
     "text": [
      "XGBClassifier(base_score=0.5, booster='gbtree', colsample_bylevel=1,\n",
      "              colsample_bytree=1, gamma=0, learning_rate=0.1, max_delta_step=0,\n",
      "              max_depth=3, min_child_weight=1, missing=None, n_estimators=100,\n",
      "              n_jobs=1, nthread=None, objective='binary:logistic',\n",
      "              random_state=0, reg_alpha=0, reg_lambda=1, scale_pos_weight=1,\n",
      "              seed=None, silent=True, subsample=1) Model Accuracy:0.71\n",
      "\n",
      " classification report :\n",
      "\n",
      "              precision    recall  f1-score   support\n",
      "\n",
      "           0       0.95      0.71      0.81      7146\n",
      "           1       0.19      0.65      0.29       741\n",
      "\n",
      "    accuracy                           0.71      7887\n",
      "   macro avg       0.57      0.68      0.55      7887\n",
      "weighted avg       0.88      0.71      0.77      7887\n",
      "\n",
      "f1_score:0.2926084300549786\n",
      "\n",
      " precision:0.18910382945124357\n",
      "\n",
      " recall:0.6464237516869096\n",
      "\n",
      " confussion matrix:\n",
      " [[5092 2054]\n",
      " [ 262  479]]\n"
     ]
    }
   ],
   "source": [
    "X_train, X_test = to_array(X_train, X_test)\n",
    "get_model_results(X_train,y_train, X_test, y_test, XGBClassifier())\n",
    "\n",
    "\n"
   ]
  },
  {
   "cell_type": "markdown",
   "metadata": {},
   "source": [
    "#### OVERSAMPLING METHOD"
   ]
  },
  {
   "cell_type": "code",
   "execution_count": 185,
   "metadata": {},
   "outputs": [],
   "source": [
    "####OVERSAMPLING\n",
    "df_class_1_over = df_class_1.sample(cnt_0, replace=True)\n",
    "df_over = pd.concat([df_class_0, df_class_1_over], axis=0)\n"
   ]
  },
  {
   "cell_type": "code",
   "execution_count": 372,
   "metadata": {},
   "outputs": [],
   "source": []
  },
  {
   "cell_type": "markdown",
   "metadata": {},
   "source": [
    "## RESULTS AFTER OVERSAMPLING METHOD"
   ]
  },
  {
   "cell_type": "code",
   "execution_count": 332,
   "metadata": {},
   "outputs": [
    {
     "name": "stdout",
     "output_type": "stream",
     "text": [
      "XGBClassifier(base_score=0.5, booster='gbtree', colsample_bylevel=1,\n",
      "              colsample_bytree=1, gamma=0, learning_rate=0.1, max_delta_step=0,\n",
      "              max_depth=3, min_child_weight=1, missing=None, n_estimators=100,\n",
      "              n_jobs=1, nthread=None, objective='binary:logistic',\n",
      "              random_state=0, reg_alpha=0, reg_lambda=1, scale_pos_weight=1,\n",
      "              seed=None, silent=True, subsample=1) Model Accuracy:0.72\n",
      "\n",
      " classification report :\n",
      "\n",
      "              precision    recall  f1-score   support\n",
      "\n",
      "           0       0.95      0.73      0.83      7146\n",
      "           1       0.20      0.65      0.31       741\n",
      "\n",
      "    accuracy                           0.72      7887\n",
      "   macro avg       0.58      0.69      0.57      7887\n",
      "weighted avg       0.88      0.72      0.78      7887\n",
      "\n",
      "f1_score:0.30828025477707005\n",
      "\n",
      " precision:0.20175072947061276\n",
      "\n",
      " recall:0.6531713900134952\n",
      "\n",
      " confussion matrix:\n",
      " [[5231 1915]\n",
      " [ 257  484]]\n"
     ]
    }
   ],
   "source": [
    "X_train=df_over.drop('is_tr',axis=1)\n",
    "y_train=df_over['is_tr']\n",
    "X_train = [word['Words'] for index,word in X_train.iterrows()]\n",
    "get_model_results(X_train,y_train, X_test, y_test, XGBClassifier())\n",
    "\n",
    "\n",
    "\n"
   ]
  },
  {
   "cell_type": "code",
   "execution_count": null,
   "metadata": {},
   "outputs": [],
   "source": []
  },
  {
   "cell_type": "markdown",
   "metadata": {},
   "source": [
    "### BEST ALGORİTHM SELECTION\n",
    "I compared results of some algorithms such as XGBoost, RandomForest, NaiveBayes, SupportVector.The metrics I consider for algorithm selection are the F1 score that helps measure precision and recall at the same time and is used for extreme values, and the AUC-Roc curve means the larger the Area Under the Curve, the better the machine learning models are to distinguish between given classes.\n",
    "XGBoost has AUC 0.755 and 0.31 F1-Score,  is the  best among other classifiers.\n"
   ]
  },
  {
   "cell_type": "code",
   "execution_count": 189,
   "metadata": {},
   "outputs": [
    {
     "name": "stdout",
     "output_type": "stream",
     "text": [
      "XGBClassifier(base_score=0.5, booster='gbtree', colsample_bylevel=1,\n",
      "              colsample_bytree=1, gamma=0, learning_rate=0.1, max_delta_step=0,\n",
      "              max_depth=3, min_child_weight=1, missing=None, n_estimators=100,\n",
      "              n_jobs=1, nthread=None, objective='binary:logistic',\n",
      "              random_state=0, reg_alpha=0, reg_lambda=1, scale_pos_weight=1,\n",
      "              seed=None, silent=True, subsample=1) Model Accuracy:0.72\n",
      "\n",
      " classification report :\n",
      "\n",
      "              precision    recall  f1-score   support\n",
      "\n",
      "           0       0.95      0.72      0.82      7146\n",
      "           1       0.20      0.67      0.31       741\n",
      "\n",
      "    accuracy                           0.72      7887\n",
      "   macro avg       0.58      0.70      0.57      7887\n",
      "weighted avg       0.88      0.72      0.78      7887\n",
      "\n",
      "f1_score:0.30956088445966984\n",
      "\n",
      " precision:0.20121457489878541\n",
      "\n",
      " recall:0.6707152496626181\n"
     ]
    },
    {
     "name": "stderr",
     "output_type": "stream",
     "text": [
      "/usr/local/lib/python3.5/dist-packages/sklearn/ensemble/forest.py:245: FutureWarning: The default value of n_estimators will change from 10 in version 0.20 to 100 in 0.22.\n",
      "  \"10 in version 0.20 to 100 in 0.22.\", FutureWarning)\n"
     ]
    },
    {
     "name": "stdout",
     "output_type": "stream",
     "text": [
      "RandomForestClassifier(bootstrap=True, class_weight=None, criterion='gini',\n",
      "                       max_depth=None, max_features='auto', max_leaf_nodes=None,\n",
      "                       min_impurity_decrease=0.0, min_impurity_split=None,\n",
      "                       min_samples_leaf=1, min_samples_split=2,\n",
      "                       min_weight_fraction_leaf=0.0, n_estimators=10,\n",
      "                       n_jobs=None, oob_score=False, random_state=None,\n",
      "                       verbose=0, warm_start=False) Model Accuracy:0.87\n",
      "\n",
      " classification report :\n",
      "\n",
      "              precision    recall  f1-score   support\n",
      "\n",
      "           0       0.92      0.94      0.93      7146\n",
      "           1       0.26      0.19      0.22       741\n",
      "\n",
      "    accuracy                           0.87      7887\n",
      "   macro avg       0.59      0.57      0.58      7887\n",
      "weighted avg       0.86      0.87      0.86      7887\n",
      "\n",
      "f1_score:0.221011673151751\n",
      "\n",
      " precision:0.2610294117647059\n",
      "\n",
      " recall:0.19163292847503374\n",
      "MultinomialNB(alpha=1.0, class_prior=None, fit_prior=True) Model Accuracy:0.67\n",
      "\n",
      " classification report :\n",
      "\n",
      "              precision    recall  f1-score   support\n",
      "\n",
      "           0       0.95      0.67      0.79      7146\n",
      "           1       0.17      0.65      0.27       741\n",
      "\n",
      "    accuracy                           0.67      7887\n",
      "   macro avg       0.56      0.66      0.53      7887\n",
      "weighted avg       0.88      0.67      0.74      7887\n",
      "\n",
      "f1_score:0.26944757609921083\n",
      "\n",
      " precision:0.1702885643035269\n",
      "\n",
      " recall:0.6450742240215924\n"
     ]
    },
    {
     "name": "stderr",
     "output_type": "stream",
     "text": [
      "/usr/local/lib/python3.5/dist-packages/sklearn/svm/base.py:193: FutureWarning: The default value of gamma will change from 'auto' to 'scale' in version 0.22 to account better for unscaled features. Set gamma explicitly to 'auto' or 'scale' to avoid this warning.\n",
      "  \"avoid this warning.\", FutureWarning)\n"
     ]
    },
    {
     "name": "stdout",
     "output_type": "stream",
     "text": [
      "SVC(C=1.0, cache_size=200, class_weight=None, coef0=0.0,\n",
      "    decision_function_shape='ovr', degree=3, gamma='auto_deprecated',\n",
      "    kernel='rbf', max_iter=-1, probability=False, random_state=None,\n",
      "    shrinking=True, tol=0.001, verbose=False) Model Accuracy:0.71\n",
      "\n",
      " classification report :\n",
      "\n",
      "              precision    recall  f1-score   support\n",
      "\n",
      "           0       0.95      0.71      0.81      7146\n",
      "           1       0.19      0.63      0.29       741\n",
      "\n",
      "    accuracy                           0.71      7887\n",
      "   macro avg       0.57      0.67      0.55      7887\n",
      "weighted avg       0.88      0.71      0.77      7887\n",
      "\n",
      "f1_score:0.28729621654875426\n",
      "\n",
      " precision:0.18605577689243027\n",
      "\n",
      " recall:0.6302294197031039\n"
     ]
    }
   ],
   "source": [
    "algorithms=[XGBClassifier(),RandomForestClassifier(), MultinomialNB(),SVC()]\n",
    "for estimator in algorithms:\n",
    "    get_model_results(X_train,y_train, X_test, y_test,estimator)"
   ]
  },
  {
   "cell_type": "code",
   "execution_count": 327,
   "metadata": {},
   "outputs": [],
   "source": [
    "\n",
    "\n",
    "def get_roccurve_metrics(X_train,y_train, X_test, est): \n",
    "    vectorizer = CountVectorizer(analyzer='char')  \n",
    "    train = vectorizer.fit_transform(X_train)\n",
    "    classifier = est\n",
    "    target = y_train\n",
    "    classifier = classifier.fit(train, target)\n",
    "    test = vectorizer.transform(X_test)\n",
    "    probs = classifier.predict_proba(test)\n",
    "    pred = probs[:,1]\n",
    "    fpr, tpr, threshold = metrics.roc_curve(y_test, pred)\n",
    "    roc_auc = metrics.auc(fpr, tpr)\n",
    "    return fpr, tpr, roc_auc\n"
   ]
  },
  {
   "cell_type": "code",
   "execution_count": null,
   "metadata": {},
   "outputs": [],
   "source": []
  },
  {
   "cell_type": "code",
   "execution_count": 325,
   "metadata": {},
   "outputs": [
    {
     "name": "stderr",
     "output_type": "stream",
     "text": [
      "/usr/local/lib/python3.5/dist-packages/sklearn/ensemble/forest.py:245: FutureWarning: The default value of n_estimators will change from 10 in version 0.20 to 100 in 0.22.\n",
      "  \"10 in version 0.20 to 100 in 0.22.\", FutureWarning)\n",
      "/usr/local/lib/python3.5/dist-packages/sklearn/svm/base.py:193: FutureWarning: The default value of gamma will change from 'auto' to 'scale' in version 0.22 to account better for unscaled features. Set gamma explicitly to 'auto' or 'scale' to avoid this warning.\n",
      "  \"avoid this warning.\", FutureWarning)\n"
     ]
    },
    {
     "data": {
      "image/png": "[encoded data removed]",
      "text/plain": [
       "<Figure size 432x288 with 1 Axes>"
      ]
     },
     "metadata": {
      "needs_background": "light"
     },
     "output_type": "display_data"
    }
   ],
   "source": [
    "\n",
    "fpr_xgb, tpr_xgb,roc_auc_xgb= get_roccurve_metrics(X_train,y_train, X_test, XGBClassifier())\n",
    "fpr_rf, tpr_rf,roc_auc_rf= get_roccurve_metrics(X_train,y_train, X_test, RandomForestClassifier())\n",
    "fpr_svc, tpr_svc,roc_auc_svc= get_roccurve_metrics(X_train,y_train, X_test, SVC(probability=True))\n",
    "fpr_nb, tpr_nb,roc_auc_nb= get_roccurve_metrics(X_train,y_train, X_test, MultinomialNB())\n",
    "\n",
    "\n",
    "\n",
    "\n",
    "plt.title('Receiver Operating Characteristic')\n",
    "plt.plot(fpr_xgb, tpr_xgb, 'b', label = 'AUC_xgb = %0.4f' % roc_auc_xgb)\n",
    "plt.plot(fpr_rf, tpr_rf, 'b', label = 'AUC_rf = %0.4f' % roc_auc_rf)\n",
    "plt.plot(fpr_svc, tpr_svc, 'b', label = 'AUC_svc = %0.4f' % roc_auc_svc)\n",
    "plt.plot(fpr_nb, tpr_nb, 'b', label = 'AUC_nb = %0.4f' % roc_auc_nb)\n",
    "plt.legend(loc = 'lower right')\n",
    "plt.plot([0, 1], [0, 1],'r--')\n",
    "plt.xlim([0, 1])\n",
    "plt.ylim([0, 1])\n",
    "plt.ylabel('True Positive Rate')\n",
    "plt.xlabel('False Positive Rate')\n",
    "plt.show()\n",
    "\n"
   ]
  },
  {
   "cell_type": "markdown",
   "metadata": {},
   "source": [
    "### TUNING HYPER PARAMETERS USING GRIDSEARCH\n",
    "Best parameter set is chosen for XGBoost. You can see the parameters and its results below.It is clear that these parameters increase the performance of the evaluation metrics(accuracy, f1-score, precision, recall). "
   ]
  },
  {
   "cell_type": "code",
   "execution_count": 373,
   "metadata": {},
   "outputs": [
    {
     "name": "stdout",
     "output_type": "stream",
     "text": [
      "Fitting 2 folds for each of 405 candidates, totalling 810 fits\n"
     ]
    },
    {
     "name": "stderr",
     "output_type": "stream",
     "text": [
      "[Parallel(n_jobs=2)]: Using backend LokyBackend with 2 concurrent workers.\n",
      "[Parallel(n_jobs=2)]: Done  28 tasks      | elapsed:   14.9s\n",
      "[Parallel(n_jobs=2)]: Done 124 tasks      | elapsed:  1.0min\n",
      "[Parallel(n_jobs=2)]: Done 284 tasks      | elapsed:  2.3min\n",
      "[Parallel(n_jobs=2)]: Done 508 tasks      | elapsed:  4.1min\n",
      "[Parallel(n_jobs=2)]: Done 796 tasks      | elapsed:  6.5min\n",
      "[Parallel(n_jobs=2)]: Done 810 out of 810 | elapsed:  6.6min finished\n"
     ]
    },
    {
     "data": {
      "text/plain": [
       "GridSearchCV(cv=2, error_score='raise-deprecating',\n",
       "             estimator=Pipeline(memory=None,\n",
       "                                steps=[('cntvector',\n",
       "                                        CountVectorizer(analyzer='char',\n",
       "                                                        binary=False,\n",
       "                                                        decode_error='strict',\n",
       "                                                        dtype=<class 'numpy.int64'>,\n",
       "                                                        encoding='utf-8',\n",
       "                                                        input='content',\n",
       "                                                        lowercase=True,\n",
       "                                                        max_df=1.0,\n",
       "                                                        max_features=None,\n",
       "                                                        min_df=1,\n",
       "                                                        ngram_range=(1, 1),\n",
       "                                                        preprocessor=None,\n",
       "                                                        stop_words=None,\n",
       "                                                        strip_accents=Non...\n",
       "                                                      subsample=1))],\n",
       "                                verbose=False),\n",
       "             iid='warn', n_jobs=2,\n",
       "             param_grid={'clf__estimator__colsample_bytree': [0.6, 0.8, 1.0],\n",
       "                         'clf__estimator__gamma': [0.5, 1, 1.5, 2, 5],\n",
       "                         'clf__estimator__max_depth': [3, 4, 5],\n",
       "                         'clf__estimator__min_child_weight': [1, 5, 10],\n",
       "                         'clf__estimator__subsample': [0.6, 0.8, 1.0]},\n",
       "             pre_dispatch='2*n_jobs', refit=True, return_train_score=False,\n",
       "             scoring=None, verbose=3)"
      ]
     },
     "execution_count": 373,
     "metadata": {},
     "output_type": "execute_result"
    }
   ],
   "source": [
    "pipeline = Pipeline([('cntvector', CountVectorizer(analyzer='char')),('clf', XGBClassifier())])\n",
    "pipeline.fit(X_train,y_train)\n",
    "\n",
    "parameters = {'clf__estimator__min_child_weight': [1, 5, 10],'clf__estimator__gamma': [0.5, 1, 1.5, 2, 5],'clf__estimator__subsample': [0.6, 0.8, 1.0],'clf__estimator__colsample_bytree': [0.6, 0.8, 1.0],'clf__estimator__max_depth': [3, 4, 5]}\n",
    "\n",
    "grid_search_tune = GridSearchCV(pipeline, parameters, cv=2, n_jobs=2, verbose=3)\n",
    "grid_search_tune.fit(X_train, y_train)\n",
    "\n",
    "\n"
   ]
  },
  {
   "cell_type": "code",
   "execution_count": 376,
   "metadata": {},
   "outputs": [
    {
     "name": "stdout",
     "output_type": "stream",
     "text": [
      "Best parameters set:\n",
      "[('cntvector', CountVectorizer(analyzer='char', binary=False, decode_error='strict',\n",
      "                dtype=<class 'numpy.int64'>, encoding='utf-8', input='content',\n",
      "                lowercase=True, max_df=1.0, max_features=None, min_df=1,\n",
      "                ngram_range=(1, 1), preprocessor=None, stop_words=None,\n",
      "                strip_accents=None, token_pattern='(?u)\\\\b\\\\w\\\\w+\\\\b',\n",
      "                tokenizer=None, vocabulary=None)), ('clf', XGBClassifier(base_score=0.5, booster='gbtree', colsample_bylevel=1,\n",
      "              colsample_bytree=1, estimator__colsample_bytree=0.6,\n",
      "              estimator__gamma=0.5, estimator__max_depth=3,\n",
      "              estimator__min_child_weight=1, estimator__subsample=0.6, gamma=0,\n",
      "              learning_rate=0.1, max_delta_step=0, max_depth=3,\n",
      "              min_child_weight=1, missing=None, n_estimators=100, n_jobs=1,\n",
      "              nthread=None, objective='binary:logistic', random_state=0,\n",
      "              reg_alpha=0, reg_lambda=1, scale_pos_weight=1, seed=None,\n",
      "              silent=True, subsample=1))]\n"
     ]
    }
   ],
   "source": [
    "print(\"Best parameters set:\")\n",
    "print(grid_search_tune.best_estimator_.steps)\n"
   ]
  },
  {
   "cell_type": "code",
   "execution_count": 336,
   "metadata": {},
   "outputs": [
    {
     "name": "stdout",
     "output_type": "stream",
     "text": [
      "              precision    recall  f1-score   support\n",
      "\n",
      "           0       0.96      0.77      0.86      7146\n",
      "           1       0.24      0.70      0.36       741\n",
      "\n",
      "    accuracy                           0.77      7887\n",
      "   macro avg       0.60      0.74      0.61      7887\n",
      "weighted avg       0.89      0.77      0.81      7887\n",
      "\n",
      "\n",
      " accuracy:0.7673386585520476\n",
      "f1_score:0.3612948137835016\n",
      "\n",
      " precision:0.24343339587242027\n",
      "\n",
      " recall:0.7004048582995951\n",
      "\n",
      " confusion matrix:\n",
      "[[5533 1613]\n",
      " [ 222  519]]\n"
     ]
    }
   ],
   "source": [
    "pipeline = Pipeline([('cntvector', CountVectorizer(analyzer='char')), ('clf', XGBClassifier(base_score=0.5, booster='gbtree', colsample_bylevel=1,\n",
    "colsample_bytree=1, estimator__colsample_bytree=0.6,estimator__gamma=0.5, estimator__max_depth=3,\n",
    "              estimator__min_child_weight=1, estimator__subsample=0.6, gamma=0,\n",
    "              learning_rate=0.1, max_delta_step=0, max_depth=3,\n",
    "              min_child_weight=1, missing=None, n_estimators=100, n_jobs=1,\n",
    "              nthread=None, objective='binary:logistic', random_state=0,\n",
    "              reg_alpha=0, reg_lambda=1, scale_pos_weight=1, seed=None,\n",
    "              silent=True, subsample=1))])\n",
    "pipeline.fit(X_train,y_train)\n",
    "pred = pipeline.predict(X_test)\n",
    "print(classification_report(y_test, pred))\n",
    "print('\\n accuracy:'+str(accuracy_score(y_test, pred)))\n",
    "print('f1_score:'+str(f1_score(y_test, pred)))\n",
    "print('\\n precision:'+str(precision_score(y_test, pred)))\n",
    "print('\\n recall:'+str(recall_score(y_test, pred)))\n",
    "print('\\n confusion matrix:\\n'+str(confusion_matrix(y_test, pred)))\n",
    "\n"
   ]
  },
  {
   "cell_type": "markdown",
   "metadata": {},
   "source": [
    "### Adding WORD LENGHT as a new feature, maybe the result would improve"
   ]
  },
  {
   "cell_type": "code",
   "execution_count": 364,
   "metadata": {},
   "outputs": [],
   "source": [
    "\n",
    "data_all['word_len']=data_all.Words.apply(lambda x: len(x))\n",
    "count_vectorizer =CountVectorizer(analyzer='char', binary=False, decode_error='strict', encoding='utf-8',input='content', lowercase=True, max_df=0.5, max_features=None,min_df=1, ngram_range=(1, 2), norm='l2', preprocessor=None,smooth_idf=True, stop_words=None, strip_accents=None,sublinear_tf=False, token_pattern='(?u)\\\\b\\\\w\\\\w+\\\\b',tokenizer=None, use_idf=True,vocabulary=None)\n",
    "sparse_matrix = count_vectorizer.fit_transform(data_all.Words)\n",
    "doc_term_matrix = sparse_matrix.todense()\n",
    "df = pd.DataFrame(doc_term_matrix, columns=count_vectorizer.get_feature_names())\n",
    "data_all.reset_index(inplace=True, drop=True)\n",
    "df=pd.concat([df, data_all[[ 'word_len', 'is_tr']]], axis=1)\n",
    "y = df.is_tr\n",
    "X =df.drop('is_tr', axis=1)\n",
    "\n"
   ]
  },
  {
   "cell_type": "code",
   "execution_count": null,
   "metadata": {},
   "outputs": [],
   "source": []
  },
  {
   "cell_type": "code",
   "execution_count": 365,
   "metadata": {},
   "outputs": [],
   "source": [
    "X_train, X_test, y_train, y_test = train_test_split(X, y, test_size=0.33, random_state=42)\n",
    "#for oversampling again\n",
    "train=pd.concat([X_train,y_train], axis=1)\n",
    "cnt_0, cnt_1 = train.is_tr.value_counts()\n",
    "df_class_0 = train[train['is_tr'] == 0]\n",
    "df_class_1 = train[train['is_tr'] == 1]\n",
    "df_class_1_over = df_class_1.sample(cnt_0, replace=True)\n",
    "df_over = pd.concat([df_class_0, df_class_1_over], axis=0)\n",
    "X_train=df_over.drop('is_tr',axis=1)\n",
    "y_train=df_over['is_tr']\n"
   ]
  },
  {
   "cell_type": "code",
   "execution_count": 366,
   "metadata": {},
   "outputs": [],
   "source": [
    "xgb=XGBClassifier(base_score=0.5, booster='gbtree', colsample_bylevel=1,\n",
    "              colsample_bytree=1, estimator__colsample_bytree=0.6,\n",
    "              estimator__gamma=0.5, estimator__max_depth=3,\n",
    "              estimator__min_child_weight=1, estimator__subsample=0.6, gamma=0,\n",
    "              learning_rate=0.1, max_delta_step=0, max_depth=3,\n",
    "              min_child_weight=1, missing=None, n_estimators=100, n_jobs=1,\n",
    "              nthread=None, objective='binary:logistic', random_state=0,\n",
    "              reg_alpha=0, reg_lambda=1, scale_pos_weight=1, seed=None,\n",
    "              silent=True, subsample=1)"
   ]
  },
  {
   "cell_type": "code",
   "execution_count": 367,
   "metadata": {},
   "outputs": [
    {
     "name": "stdout",
     "output_type": "stream",
     "text": [
      "              precision    recall  f1-score   support\n",
      "\n",
      "           0       0.96      0.77      0.86      7146\n",
      "           1       0.24      0.70      0.36       741\n",
      "\n",
      "    accuracy                           0.77      7887\n",
      "   macro avg       0.60      0.74      0.61      7887\n",
      "weighted avg       0.89      0.77      0.81      7887\n",
      "\n",
      "\n",
      " accuracy:0.7673386585520476\n",
      "f1_score:0.3612948137835016\n",
      "\n",
      " precision:0.24343339587242027\n",
      "\n",
      " recall:0.7004048582995951\n",
      "\n",
      " confusion matrix:\n",
      "[[5533 1613]\n",
      " [ 222  519]]\n"
     ]
    }
   ],
   "source": [
    "xgb.fit(X_train, y_train)\n",
    "xgb.predict(X_test)\n",
    "print(classification_report(y_test, pred))\n",
    "print('\\n accuracy:'+str(accuracy_score(y_test, pred)))\n",
    "print('f1_score:'+str(f1_score(y_test, pred)))\n",
    "print('\\n precision:'+str(precision_score(y_test, pred)))\n",
    "print('\\n recall:'+str(recall_score(y_test, pred)))\n",
    "print('\\n confusion matrix:\\n'+str(confusion_matrix(y_test, pred)))\n",
    "\n"
   ]
  },
  {
   "cell_type": "markdown",
   "metadata": {},
   "source": [
    "# CONCLUSION\n",
    "To summarize, I combined csv files that have English and Turkish words  and created a single data to guess whether the word is in Turkish. Target value is column 'is_tr'. Data was actually highly unbalance, so I applied the resampling method on the trainset to balance the data. Before applying this method, I also got results on unbalance data to compare the results.I used CountVectorizer to transform word to char feature vectors that can be used as input to classifier.\n",
    "The results I get over unbalanced data show that accuracy is very high but this is not important, because model tends to predict that label is 1 as 0. It is clearly visible in the confusion matrix. After balancing the data on the trainset, TN value decreased, FP value increased. at least we lowered the model's tendency to predict 0 because of the unbalacity of the data. At the same time, accuracy decreased, f1 score increased.This scenario is more acceptable than unbalanced data with high accuracy.\n",
    "XGBoost has higher AUC and F1-Score, is the best among other classifiers. After selecting best algorithm, best parameters was chosen for XGBoost  thanks to Gridsearch.These best parameters increased the performance of the evaluation metrics (accuracy, f1-score, precision, recall).I need high precision and recall, But model has still low precison and F1 score.\n",
    "while recall(the correct estimation rate of Turkish words) is 0.70, precision (How many of words we predict Turkish are really Turkish) is 0.24\n",
    "in another saying, the low precision  means that the model's classifier returns a lot of false positives (i mean, model decides to word as in turkish but actually it is  in english).I talked about before, F1-score helps measure precision and recall at the same time. It uses harmonic averages rather than arithmetic averages. F1 score is 0.36.\n",
    "Finally, i added word lenght as a new feature but results have not changed."
   ]
  },
  {
   "cell_type": "code",
   "execution_count": null,
   "metadata": {},
   "outputs": [],
   "source": []
  },
  {
   "cell_type": "markdown",
   "metadata": {},
   "source": [
    "# 1.2 Distinguish junk words from genuine words"
   ]
  },
  {
   "cell_type": "markdown",
   "metadata": {},
   "source": [
    "This question, that is, distinguish junk words from genuine words is similar to the problem \"did  you mean .....\" in search engines used in google or e-commerce. I mean, we're quite likely to misspell a word we entered in search engines.Nevertheless, the word we are trying to write is perceived and returns a result.The most commonly used method for this situation, is text similarity, edit distance. When I think about this question(i mean, distinquesh junk word from genuine ), I can follow a way like this:\n",
    "I calculate similarity score between the word I want to understand if there is a junk word, and each word in the word pool where all the words are correct.the score between 0 and 1 which refers 1 as the exact similar and 0 as the nothing similar.(In the edit distance,the lower the number of changes (distance) required, the higher the similarity score between the words.) In order to understand that the word is a junk word, I define a custom threshold (assume this value is 0.70). If there is no case that similarity score is 1 and there is  a score that is equal to or greater than the threshold value I have set, I can deduce that it is a junk word.\n",
    "\n"
   ]
  },
  {
   "cell_type": "markdown",
   "metadata": {},
   "source": [
    "# 2.SIMULATION"
   ]
  },
  {
   "cell_type": "code",
   "execution_count": 257,
   "metadata": {},
   "outputs": [],
   "source": []
  },
  {
   "cell_type": "code",
   "execution_count": 449,
   "metadata": {},
   "outputs": [
    {
     "data": {
      "image/png": "[encoded data removed]",
      "text/plain": [
       "<Figure size 432x288 with 1 Axes>"
      ]
     },
     "metadata": {
      "needs_background": "light"
     },
     "output_type": "display_data"
    }
   ],
   "source": [
    "import numpy as np\n",
    "import matplotlib.pyplot as plt\n",
    "import scipy.stats as stats\n",
    "import seaborn as sns\n",
    "\n",
    "np.random.seed(5)\n",
    "for N in range(2,100001):# Number of steps.\n",
    "    \n",
    "    T = 10 # Total time.\n",
    "    dt = T/(N-1) # Time step size\n",
    "    t = np.linspace(dt,T,N)\n",
    "    \n",
    "    dX = np.sqrt(dt) * np.random.randn(1,N)\n",
    "    X = np.cumsum(dX, axis=1)\n",
    "    X[0,0]=1 # Initial values of x.\n",
    "        \n",
    "    dY = np.sqrt(dt) * np.random.randn(1,N)\n",
    "    Y = np.cumsum(dY, axis=1)\n",
    "    Y[0,0]=1 # Initial values of y.\n",
    "    if len(Y[Y==0.0])>0:\n",
    "        print(N)\n",
    "        break\n",
    "fig, ax = plt.subplots()\n",
    "ax.plot(X[0,:], Y[0,:])\n",
    "ax.plot(X[0,0], Y[0,0], 'ro')\n",
    "ax.plot(X[0,-1], Y[0,-1], 'yo')\n",
    "ax.set_xlabel('X(t)')\n",
    "ax.set_ylabel('Y(t)')\n",
    "ax.set_title('Brownian Path')\n",
    "plt.tight_layout()\n",
    "plt.show()\n"
   ]
  },
  {
   "cell_type": "code",
   "execution_count": null,
   "metadata": {},
   "outputs": [],
   "source": []
  },
  {
   "cell_type": "code",
   "execution_count": 450,
   "metadata": {},
   "outputs": [],
   "source": [
    "my_list = map(lambda x: x[0], Y.T)\n",
    "y_list = pd.Series(my_list)"
   ]
  },
  {
   "cell_type": "code",
   "execution_count": 451,
   "metadata": {},
   "outputs": [
    {
     "data": {
      "text/plain": [
       "Series([], dtype: float64)"
      ]
     },
     "execution_count": 451,
     "metadata": {},
     "output_type": "execute_result"
    }
   ],
   "source": [
    "y_list[y_list==0]"
   ]
  },
  {
   "cell_type": "code",
   "execution_count": null,
   "metadata": {},
   "outputs": [],
   "source": []
  },
  {
   "cell_type": "code",
   "execution_count": 452,
   "metadata": {},
   "outputs": [],
   "source": [
    "my_list = map(lambda x: x[0], X.T)\n",
    "x_list = pd.Series(my_list)"
   ]
  },
  {
   "cell_type": "code",
   "execution_count": 455,
   "metadata": {},
   "outputs": [
    {
     "data": {
      "text/plain": [
       "-1.2509251081324138"
      ]
     },
     "execution_count": 455,
     "metadata": {},
     "output_type": "execute_result"
    }
   ],
   "source": [
    "x_list[9999]"
   ]
  },
  {
   "cell_type": "markdown",
   "metadata": {},
   "source": [
    "#### CONCLUSION\n",
    "First of all, the brownian motion is completely irregular,a random move, is a stochastic process. You can see the simulation graph above.\n",
    "I constantly increased the N step parameter but i couldnt find any point that  y = 0 status in the simulations.So, suppose that, y equals 0 in the feture and now i wanna know value of x while y=0, i mean probability of x<0. Just remindin, brownian motion increment is normally distributed with mean, expected value of 0, variance of time interval.In this case, initial value is 1 not 0, i mean W0 value is not 0.\n",
    "And also i said before, i couldnt find any point that  y = 0 status in the simulations.So,\n",
    "Suppose that:\n",
    "- Wx= brownian motion value of x on the last state. (we can think that value in the last index of x_list obtained from simulation above. I mean -1.2509)\n",
    "- tf= future time while y=0 \n",
    "What I need to know in order to deduce on future brownian motion of x is its expected value. And according to Brownian motion property, expected_value of where i am going to be in the future, is where i am now. I mean, expected_value(mean) of x on time tf will be -1.2509. Namely, at time tf, the brwnian motion of x can end up on any of the data points obtained by adding and subtracting the variance(time interval) to the expected value. What I'm trying to explain is that the increment is normally distributed. In the future, case that while y = 0, the fact that x is less than 0 is highly related to the B.Motion value of x in the last position (as expected value) and the t+ts (t/N) value (as variance).\n",
    "\n",
    "In addition, you can see the skewness value of X brownian motions below. As a result, the skewness value is  Highly right  skewed but we know that\n",
    "**brownian motion increment is normally distributed**.\n"
   ]
  },
  {
   "cell_type": "code",
   "execution_count": 481,
   "metadata": {},
   "outputs": [],
   "source": [
    "x=pd.DataFrame(data=x_list)\n",
    "y=pd.DataFrame(data=y_list)\n",
    "df=pd.concat([x, y], axis=1)\n",
    "df.columns=['x_val','y_val']\n",
    "df=df[df.index<=10000]"
   ]
  },
  {
   "cell_type": "code",
   "execution_count": null,
   "metadata": {},
   "outputs": [],
   "source": []
  },
  {
   "cell_type": "code",
   "execution_count": 482,
   "metadata": {},
   "outputs": [
    {
     "name": "stdout",
     "output_type": "stream",
     "text": [
      "y_val skewness is: 1.192873019079344; Highly skewed(Right)\n"
     ]
    }
   ],
   "source": [
    "x = df['x_val']\n",
    "if stats.skew(x)>1:\n",
    "    print(i+' skewness is: '+ str(stats.skew(x))+'; Highly skewed(Right)') \n",
    "elif stats.skew(x) <-1:\n",
    "    print(i+ ' skewness is: '+ str(stats.skew(x))+'; Highly skewed(Left)')\n",
    "elif (stats.skew(x)<0.5 and stats.skew(x)>-0.5):\n",
    "    print(i+ ' skewness is: '+ str(stats.skew(x))+'; Symmetric')\n",
    "elif (stats.skew(x)<1 and stats.stats.skew(x)>0.5) or (stats.skew(x)<-0.5 and stats.skew(x)>-1):\n",
    "    print(i+ ' skewness is: '+ str(stats.skew(x))+'; Moderately skewed')  \n"
   ]
  },
  {
   "cell_type": "code",
   "execution_count": null,
   "metadata": {},
   "outputs": [],
   "source": []
  },
  {
   "cell_type": "code",
   "execution_count": null,
   "metadata": {},
   "outputs": [],
   "source": []
  },
  {
   "cell_type": "code",
   "execution_count": 434,
   "metadata": {},
   "outputs": [],
   "source": []
  },
  {
   "cell_type": "code",
   "execution_count": null,
   "metadata": {},
   "outputs": [],
   "source": []
  },
  {
   "cell_type": "code",
   "execution_count": null,
   "metadata": {},
   "outputs": [],
   "source": []
  },
  {
   "cell_type": "code",
   "execution_count": null,
   "metadata": {},
   "outputs": [],
   "source": []
  }
 ],
 "metadata": {
  "kernelspec": {
   "display_name": "Python 3",
   "language": "python",
   "name": "python3"
  },
  "language_info": {
   "codemirror_mode": {
    "name": "ipython",
    "version": 3
   },
   "file_extension": ".py",
   "mimetype": "text/x-python",
   "name": "python",
   "nbconvert_exporter": "python",
   "pygments_lexer": "ipython3",
   "version": "3.5.2"
  }
 },
 "nbformat": 4,
 "nbformat_minor": 2
}
